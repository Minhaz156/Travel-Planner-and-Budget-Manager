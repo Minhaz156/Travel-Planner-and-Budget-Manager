{
  "nbformat": 4,
  "nbformat_minor": 0,
  "metadata": {
    "colab": {
      "provenance": [],
      "toc_visible": true
    },
    "kernelspec": {
      "name": "python3",
      "display_name": "Python 3"
    },
    "language_info": {
      "name": "python"
    }
  },
  "cells": [
    {
      "cell_type": "code",
      "execution_count": null,
      "metadata": {
        "colab": {
          "base_uri": "https://localhost:8080/"
        },
        "id": "o0LDPqqbQhnr",
        "outputId": "a4862988-da7d-499e-9007-355347885850"
      },
      "outputs": [
        {
          "output_type": "stream",
          "name": "stdout",
          "text": [
            "Minhaz\n",
            "h\n"
          ]
        }
      ],
      "source": [
        "x = 'Minhaz'\n",
        "print(x)\n",
        "a = 'h'\n",
        "print(a)"
      ]
    },
    {
      "cell_type": "code",
      "source": [
        "my_name = 'hello'\n",
        "print(my_name)"
      ],
      "metadata": {
        "colab": {
          "base_uri": "https://localhost:8080/"
        },
        "id": "Mm66m9IIQ6RG",
        "outputId": "2a6af464-3cb8-4327-a4a2-99c3c3393539"
      },
      "execution_count": null,
      "outputs": [
        {
          "output_type": "stream",
          "name": "stdout",
          "text": [
            "hello\n"
          ]
        }
      ]
    },
    {
      "cell_type": "code",
      "source": [
        "x,y,z = 'Rahim','Karim','Minhaz'\n",
        "print(x,y,z)"
      ],
      "metadata": {
        "colab": {
          "base_uri": "https://localhost:8080/"
        },
        "id": "ONaSI5ZPRFN4",
        "outputId": "2b6d4316-089c-457e-dd1f-8c99e086d951"
      },
      "execution_count": null,
      "outputs": [
        {
          "output_type": "stream",
          "name": "stdout",
          "text": [
            "Rahim Karim Minhaz\n"
          ]
        }
      ]
    },
    {
      "cell_type": "code",
      "source": [],
      "metadata": {
        "id": "4NVfgKkG_-JW"
      },
      "execution_count": null,
      "outputs": []
    },
    {
      "cell_type": "code",
      "source": [],
      "metadata": {
        "id": "Tv6Rap_lBTsr"
      },
      "execution_count": null,
      "outputs": []
    },
    {
      "cell_type": "code",
      "source": [
        "class universityStackHolder:\n",
        "  def __init__(self,name,age,occupation):\n",
        "    self.name = name\n",
        "    self.age = age\n",
        "    self.occupation = occupation\n"
      ],
      "metadata": {
        "id": "c789OrHa_-Ew"
      },
      "execution_count": null,
      "outputs": []
    },
    {
      "cell_type": "code",
      "source": [
        "m1 = universityStackHolder(\"abc\",\"45\",\"Don't know\")"
      ],
      "metadata": {
        "id": "Z3Zmxy3-Dcmi"
      },
      "execution_count": null,
      "outputs": []
    },
    {
      "cell_type": "code",
      "source": [
        "print(m1.occupation)"
      ],
      "metadata": {
        "colab": {
          "base_uri": "https://localhost:8080/"
        },
        "id": "uxnBUtkxD11C",
        "outputId": "ab4d62df-290d-4339-9650-20ffb1173c85"
      },
      "execution_count": null,
      "outputs": [
        {
          "output_type": "stream",
          "name": "stdout",
          "text": [
            "Don't know\n"
          ]
        }
      ]
    },
    {
      "cell_type": "code",
      "source": [
        "class Student(universityStackHolder):\n",
        "  def __init__(self,name,age,occupation,cgpa):\n",
        "    super().__init__(name,age,occupation)\n",
        "    self.cgpa = cgpa\n",
        "  def CalculateGpa(self,markList):\n",
        "    TotalCourses = len(markList)\n",
        "    TotalMark = 0\n",
        "    for mark in markList:\n",
        "      TotalMark = TotalMark + mark\n",
        "    AvgMark = TotalMark/TotalCourses\n",
        "    if AvgMark >= 80:\n",
        "      self.gpa = 4\n",
        "    elif AvgMark >= 60:\n",
        "      self.gpa = 3\n",
        "    elif AvgMark >= 40:\n",
        "      self.gpa = 2\n",
        "    else:\n",
        "      self.gpa = 0\n"
      ],
      "metadata": {
        "id": "hcKLoK7Z_-CI"
      },
      "execution_count": null,
      "outputs": []
    },
    {
      "cell_type": "code",
      "source": [
        "st1 = Student(\"abc\",\"001\",\"Student\",0)\n",
        "st2 = Student(\"xyz\",\"002\",\"Student\",0)"
      ],
      "metadata": {
        "id": "x_DCgFM8FeSN"
      },
      "execution_count": null,
      "outputs": []
    },
    {
      "cell_type": "code",
      "source": [],
      "metadata": {
        "id": "MxYAuImz_9_h"
      },
      "execution_count": null,
      "outputs": []
    },
    {
      "cell_type": "code",
      "source": [
        "print(st1.CalculateGpa([80,40,50,45,65]))"
      ],
      "metadata": {
        "colab": {
          "base_uri": "https://localhost:8080/",
          "height": 141
        },
        "id": "HbLbImyT_98r",
        "outputId": "9ff8bfbe-18bc-4f4d-d266-7af4d8aeed09"
      },
      "execution_count": null,
      "outputs": [
        {
          "output_type": "error",
          "ename": "AttributeError",
          "evalue": "'Student' object has no attribute 'CalculateGpa'",
          "traceback": [
            "\u001b[0;31m---------------------------------------------------------------------------\u001b[0m",
            "\u001b[0;31mAttributeError\u001b[0m                            Traceback (most recent call last)",
            "\u001b[0;32m<ipython-input-18-b3852ce925d9>\u001b[0m in \u001b[0;36m<cell line: 0>\u001b[0;34m()\u001b[0m\n\u001b[0;32m----> 1\u001b[0;31m \u001b[0mprint\u001b[0m\u001b[0;34m(\u001b[0m\u001b[0mst1\u001b[0m\u001b[0;34m.\u001b[0m\u001b[0mCalculateGpa\u001b[0m\u001b[0;34m(\u001b[0m\u001b[0;34m[\u001b[0m\u001b[0;36m80\u001b[0m\u001b[0;34m,\u001b[0m\u001b[0;36m40\u001b[0m\u001b[0;34m,\u001b[0m\u001b[0;36m50\u001b[0m\u001b[0;34m,\u001b[0m\u001b[0;36m45\u001b[0m\u001b[0;34m,\u001b[0m\u001b[0;36m65\u001b[0m\u001b[0;34m]\u001b[0m\u001b[0;34m)\u001b[0m\u001b[0;34m)\u001b[0m\u001b[0;34m\u001b[0m\u001b[0;34m\u001b[0m\u001b[0m\n\u001b[0m",
            "\u001b[0;31mAttributeError\u001b[0m: 'Student' object has no attribute 'CalculateGpa'"
          ]
        }
      ]
    },
    {
      "cell_type": "code",
      "source": [
        "b = [1,2,3,4]\n",
        "for i in b:\n",
        "  print(i)"
      ],
      "metadata": {
        "id": "c8dB5ndK_95i",
        "colab": {
          "base_uri": "https://localhost:8080/"
        },
        "outputId": "cf697064-2ab9-46a4-84b4-51307af7b2fd"
      },
      "execution_count": null,
      "outputs": [
        {
          "output_type": "stream",
          "name": "stdout",
          "text": [
            "1\n",
            "1\n",
            "2\n",
            "3\n",
            "4\n"
          ]
        }
      ]
    },
    {
      "cell_type": "code",
      "source": [
        "def C(numbers):\n",
        "  avg = sum(numbers)/len(numbers)\n",
        "  return avg\n",
        "print(C([1,2,3,4,5,5]))\n",
        "\n"
      ],
      "metadata": {
        "id": "Kx355zhx_92M",
        "colab": {
          "base_uri": "https://localhost:8080/"
        },
        "outputId": "e5f62934-0bca-4956-82c3-d212aa9c664d"
      },
      "execution_count": null,
      "outputs": [
        {
          "output_type": "stream",
          "name": "stdout",
          "text": [
            "3.3333333333333335\n"
          ]
        }
      ]
    },
    {
      "cell_type": "code",
      "source": [
        "string = input(\"Enter the srting: \")\n",
        "vowels = \"aeiouAEIOU\"\n",
        "count = []\n",
        "for char in string:\n",
        "  if char in vowels:\n",
        "    count.append(char)\n",
        "\n",
        "print(\"total vowels:\" ,count)\n",
        "print(\"Total number of vowels are:\",len(count))\n"
      ],
      "metadata": {
        "id": "Qy7GsYe__9x3",
        "colab": {
          "base_uri": "https://localhost:8080/"
        },
        "outputId": "9228e589-a2fc-46de-d61a-825623d94db8"
      },
      "execution_count": null,
      "outputs": [
        {
          "output_type": "stream",
          "name": "stdout",
          "text": [
            "Enter the srting: VoiuOuavovoaiuavhvuo\n",
            "total vowels: ['o', 'i', 'u', 'O', 'u', 'a', 'o', 'o', 'a', 'i', 'u', 'a', 'u', 'o']\n",
            "Total number of vowels are: 14\n"
          ]
        }
      ]
    },
    {
      "cell_type": "code",
      "source": [
        "s = input()\n",
        "rev_s = \"\"\n",
        "i = len(s)-1\n",
        "while i>=0:\n",
        "  rev_s = rev_s + s[i]\n",
        "  i = i - 1\n",
        "print(rev_s)"
      ],
      "metadata": {
        "id": "Cn3YE5ix_9u4",
        "colab": {
          "base_uri": "https://localhost:8080/"
        },
        "outputId": "4a6746f4-7c26-414c-9555-e1d8e23a5016"
      },
      "execution_count": null,
      "outputs": [
        {
          "output_type": "stream",
          "name": "stdout",
          "text": [
            "abcdef\n",
            "fedcba\n"
          ]
        }
      ]
    },
    {
      "cell_type": "code",
      "source": [],
      "metadata": {
        "id": "n8kVn_ipRH8W",
        "colab": {
          "base_uri": "https://localhost:8080/"
        },
        "outputId": "baa6dfab-5a88-49dd-acca-a41bd81069f2"
      },
      "execution_count": null,
      "outputs": [
        {
          "output_type": "stream",
          "name": "stdout",
          "text": [
            "avgs\n",
            "4\n"
          ]
        }
      ]
    },
    {
      "cell_type": "code",
      "source": [
        "import csv\n",
        "\n",
        "header = ['Destination', 'Start Date', 'End Date', 'Activities', 'Accommodation', 'Transport']\n",
        "rows = [\n",
        "    ['Paris', '2025-03-01', '2025-03-10', 'Sightseeing;Museum Visits', 'Hotel', 'Flight'],\n",
        "    ['Tokyo', '2025-04-05', '2025-04-15', 'Sightseeing;Hiking', 'Airbnb', 'Flight']\n",
        "]\n",
        "\n",
        "#Specify the file name\n",
        "filename = 'trips.csv'\n",
        "\n",
        "#Write data to CSV file\n",
        "with open(filename, mode='w', newline='') as file:\n",
        "    writer = csv.writer(file)\n",
        "\n",
        "    writer.writerow(header)\n",
        "\n",
        "    writer.writerows(rows)\n",
        "\n",
        "print(f\"CSV file '{filename}' has been created successfully.\")\n"
      ],
      "metadata": {
        "colab": {
          "base_uri": "https://localhost:8080/"
        },
        "id": "eqAw21e6Nv4W",
        "outputId": "6b4a50d6-9439-4dea-f058-d343c797af43"
      },
      "execution_count": 4,
      "outputs": [
        {
          "output_type": "stream",
          "name": "stdout",
          "text": [
            "CSV file 'trips.csv' has been created successfully.\n"
          ]
        }
      ]
    },
    {
      "cell_type": "code",
      "source": [
        "import csv\n",
        "class Trip:\n",
        "    def __init__(self, destination, start_date, end_date, activities, accommodations, transport):\n",
        "        self.destination = destination\n",
        "        self.start_date = start_date\n",
        "        self.end_date = end_date\n",
        "        self.activities = activities\n",
        "        self.accommodations = accommodations\n",
        "        self.transport = transport\n",
        "\n",
        "class TravelPlanner:\n",
        "    def __init__(self):\n",
        "        self.trips = []\n",
        "\n",
        "    def add_trip(self, destination, start_date, end_date, activities, accommodations, transport):\n",
        "        trip = Trip(destination, start_date, end_date, activities, accommodations, transport)\n",
        "        self.trips.append(trip)\n",
        "        print(f\"Trip to {destination} added successfully!\")\n",
        "\n",
        "    def view_trips(self):\n",
        "        if not self.trips:\n",
        "            print(\"No trips found.\")\n",
        "            return\n",
        "        for trip in self.trips:\n",
        "            self._print_trip_details(trip)\n",
        "            print(\"------------\")\n",
        "\n",
        "    def search_trips(self, destination=None, activity=None, start_date=None, end_date=None):\n",
        "        results = []\n",
        "        for trip in self.trips:\n",
        "            if destination and trip.destination != destination:\n",
        "                continue\n",
        "            if activity and activity not in trip.activities:\n",
        "                continue\n",
        "            if start_date and trip.start_date != start_date:\n",
        "                continue\n",
        "            if end_date and trip.end_date != end_date:\n",
        "                continue\n",
        "            results.append(trip)\n",
        "\n",
        "        if not results:\n",
        "            print(\"No trips matching the criteria found.\")\n",
        "            return\n",
        "        for trip in results:\n",
        "            self._print_trip_details(trip)\n",
        "            print(\"------------\")\n",
        "\n",
        "    def update_trip(self, destination, new_trip):\n",
        "        for i, trip in enumerate(self.trips):\n",
        "            if trip.destination == destination:\n",
        "                self.trips[i] = new_trip\n",
        "                print(f\"Trip to {destination} updated successfully!\")\n",
        "                return\n",
        "        print(f\"No trip found to {destination}.\")\n",
        "\n",
        "    def delete_trip(self, destination):\n",
        "        for trip in self.trips:\n",
        "            if trip.destination == destination:\n",
        "                self.trips.remove(trip)\n",
        "                print(f\"Trip to {destination} deleted successfully!\")\n",
        "                return\n",
        "        print(f\"No trip found to {destination}.\")\n",
        "\n",
        "    def _print_trip_details(self, trip):\n",
        "        print(f\"Destination: {trip.destination}\")\n",
        "        print(f\"Start Date: {trip.start_date}\")\n",
        "        print(f\"End Date: {trip.end_date}\")\n",
        "        print(f\"Activities: {', '.join(trip.activities)}\")\n",
        "        print(f\"Accommodations: {trip.accommodations}\")\n",
        "        print(f\"Transport: {trip.transport}\")\n",
        "\n",
        "# User Interface\n",
        "def main():\n",
        "    planner = TravelPlanner()\n",
        "    while True:\n",
        "        print(\"\\nTravel Planner & Budget Manager\")\n",
        "        print(\"1. Add a new trip\")\n",
        "        print(\"2. View all trips\")\n",
        "        print(\"3. Search for a trip\")\n",
        "        print(\"4. Update or delete a trip\")\n",
        "        print(\"5. Exit\")\n",
        "\n",
        "        choice = input(\"Choose an option: \")\n",
        "\n",
        "        if choice == '1':\n",
        "            destination = input(\"Enter destination: \")\n",
        "            start_date = input(\"Enter start date (YYYY-MM-DD): \")\n",
        "            end_date = input(\"Enter end date (YYYY-MM-DD): \")\n",
        "            activities = input(\"Enter activities (comma-separated): \").split(\",\")\n",
        "            accommodations = input(\"Enter accommodations: \")\n",
        "            transport = input(\"Enter transport: \")\n",
        "            planner.add_trip(destination, start_date, end_date, activities, accommodations, transport)\n",
        "\n",
        "        elif choice == '2':\n",
        "            planner.view_trips()\n",
        "\n",
        "        elif choice == '3':\n",
        "            destination = input(\"Search by destination: \")\n",
        "            activity = input(\"Search by activity: \")\n",
        "            start_date = input(\"Search by start date (YYYY-MM-DD): \")\n",
        "            end_date = input(\"Search by end date (YYYY-MM-DD): \")\n",
        "            planner.search_trips(destination if destination else None, activity if activity else None, start_date if start_date else None, end_date if end_date else None)\n",
        "\n",
        "        elif choice == '4':\n",
        "            destination = input(\"Enter the destination of the trip to update/delete: \")\n",
        "            action = input(\"Type 'update' to update or 'delete' to delete: \")\n",
        "            if action == 'update':\n",
        "                new_destination = input(\"Enter new destination: \")\n",
        "                new_start_date = input(\"Enter new start date (YYYY-MM-DD): \")\n",
        "                new_end_date = input(\"Enter new end date (YYYY-MM-DD): \")\n",
        "                new_activities = input(\"Enter new activities (comma-separated): \").split(\",\")\n",
        "                new_accommodations = input(\"Enter new accommodations: \")\n",
        "                new_transport = input(\"Enter new transport: \")\n",
        "                new_trip = Trip(new_destination, new_start_date, new_end_date, new_activities, new_accommodations, new_transport)\n",
        "                planner.update_trip(destination, new_trip)\n",
        "            elif action == 'delete':\n",
        "                planner.delete_trip(destination)\n",
        "            else:\n",
        "                print(\"Invalid action.\")\n",
        "\n",
        "        elif choice == '5':\n",
        "            break\n",
        "\n",
        "        else:\n",
        "            print(\"Invalid choice. Please try again.\")\n",
        "\n",
        "if __name__ == \"__main__\":\n",
        "    main()"
      ],
      "metadata": {
        "colab": {
          "base_uri": "https://localhost:8080/"
        },
        "id": "bzKYTgFVPowd",
        "outputId": "d6be23b0-87b5-4e65-a3f1-ff597f0f2b23"
      },
      "execution_count": 5,
      "outputs": [
        {
          "name": "stdout",
          "output_type": "stream",
          "text": [
            "\n",
            "Travel Planner & Budget Manager\n",
            "1. Add a new trip\n",
            "2. View all trips\n",
            "3. Search for a trip\n",
            "4. Update or delete a trip\n",
            "5. Exit\n",
            "Choose an option: 2\n",
            "No trips found.\n",
            "\n",
            "Travel Planner & Budget Manager\n",
            "1. Add a new trip\n",
            "2. View all trips\n",
            "3. Search for a trip\n",
            "4. Update or delete a trip\n",
            "5. Exit\n",
            "Choose an option: 5\n"
          ]
        }
      ]
    },
    {
      "cell_type": "code",
      "source": [
        "import csv\n",
        "\n",
        "def add_trip(destination, start_date, end_date, activities, accommodation, transport):\n",
        "    with open('trips.csv', mode='a', newline='') as file:\n",
        "        writer = csv.writer(file)\n",
        "        writer.writerow([destination, start_date, end_date, ';'.join(activities), accommodation, transport])\n",
        "\n",
        "def view_trips():\n",
        "    with open('trips.csv', mode='r') as file:\n",
        "        reader = csv.reader(file)\n",
        "        for row in reader:\n",
        "            print(f\"Destination: {row[0]}, Travel Dates: {row[1]} to {row[2]}\")\n",
        "\n",
        "def search_trips_by_destination(destination):\n",
        "    with open('trips.csv', mode='r') as file:\n",
        "        reader = csv.reader(file)\n",
        "        for row in reader:\n",
        "            if row[0].lower() == destination.lower():\n",
        "                print(f\"Found trip to {destination}: {row[1]} to {row[2]}\")\n",
        "\n",
        "def menu():\n",
        "    while True:\n",
        "        print(\"\\nTrip Planner Menu\")\n",
        "        print(\"1. Add a New Trip\")\n",
        "        print(\"2. View All Trips\")\n",
        "        print(\"3. Search for a Trip\")\n",
        "        print(\"4. Update or Delete a Trip\")\n",
        "        print(\"5. Exit\")\n",
        "\n",
        "        choice = input(\"Enter your choice: \")\n",
        "\n",
        "        if choice == '1':\n",
        "            destination = input(\"Enter destination: \")\n",
        "            start_date = input(\"Enter start date (YYYY-MM-DD): \")\n",
        "            end_date = input(\"Enter end date (YYYY-MM-DD): \")\n",
        "            activities = input(\"Enter activities (separated by commas): \").split(',')\n",
        "            accommodation = input(\"Enter accommodation: \")\n",
        "            transport = input(\"Enter transport: \")\n",
        "            add_trip(destination, start_date, end_date, activities, accommodation, transport)\n",
        "            print(\"Trip added successfully!\")\n",
        "\n",
        "        elif choice == '2':\n",
        "            view_trips()\n",
        "\n",
        "        elif choice == '3':\n",
        "            destination = input(\"Enter destination to search: \")\n",
        "            search_trips_by_destination(destination)\n",
        "\n",
        "        elif choice == '4':\n",
        "            print(\"Update or Delete functionality coming soon!\")\n",
        "\n",
        "        elif choice == '5':\n",
        "            break\n",
        "\n",
        "        else:\n",
        "            print(\"Invalid choice. Please try again.\")\n",
        "\n",
        "# Start the menu\n",
        "menu()"
      ],
      "metadata": {
        "colab": {
          "base_uri": "https://localhost:8080/"
        },
        "id": "gkjkRAfIQsZU",
        "outputId": "dba8de6e-d725-49d4-9300-500338964263"
      },
      "execution_count": 7,
      "outputs": [
        {
          "name": "stdout",
          "output_type": "stream",
          "text": [
            "\n",
            "Trip Planner Menu\n",
            "1. Add a New Trip\n",
            "2. View All Trips\n",
            "3. Search for a Trip\n",
            "4. Update or Delete a Trip\n",
            "5. Exit\n",
            "Enter your choice: 1\n",
            "Enter destination: Mymensingh\n",
            "Enter start date (YYYY-MM-DD): 2024-01-23\n",
            "Enter end date (YYYY-MM-DD): 2024-01-25\n",
            "Enter activities (separated by commas): Home visit\n",
            "Enter accommodation: Home\n",
            "Enter transport: Bus\n",
            "Trip added successfully!\n",
            "\n",
            "Trip Planner Menu\n",
            "1. Add a New Trip\n",
            "2. View All Trips\n",
            "3. Search for a Trip\n",
            "4. Update or Delete a Trip\n",
            "5. Exit\n",
            "Enter your choice: 2\n",
            "Destination: Destination, Travel Dates: Start Date to End Date\n",
            "Destination: Paris, Travel Dates: 2025-03-01 to 2025-03-10\n",
            "Destination: Tokyo, Travel Dates: 2025-04-05 to 2025-04-15\n",
            "Destination: Mymensingh, Travel Dates: 2024-01-23 to 2024-01-25\n",
            "\n",
            "Trip Planner Menu\n",
            "1. Add a New Trip\n",
            "2. View All Trips\n",
            "3. Search for a Trip\n",
            "4. Update or Delete a Trip\n",
            "5. Exit\n",
            "Enter your choice: 5\n"
          ]
        }
      ]
    }
  ]
}